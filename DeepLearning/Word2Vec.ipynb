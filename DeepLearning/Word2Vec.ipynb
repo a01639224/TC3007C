{
  "nbformat": 4,
  "nbformat_minor": 0,
  "metadata": {
    "colab": {
      "provenance": [],
      "gpuType": "T4"
    },
    "kernelspec": {
      "name": "python3",
      "display_name": "Python 3"
    },
    "language_info": {
      "name": "python"
    },
    "accelerator": "GPU"
  },
  "cells": [
    {
      "cell_type": "markdown",
      "source": [
        "Importar librerias  "
      ],
      "metadata": {
        "id": "YHbHpe5Xr_PG"
      }
    },
    {
      "cell_type": "code",
      "execution_count": null,
      "metadata": {
        "id": "AtVpHT9VlAv2"
      },
      "outputs": [],
      "source": [
        "import io\n",
        "import re\n",
        "import string\n",
        "import tqdm\n",
        "\n",
        "import numpy as np\n",
        "import tensorflow as tf\n",
        "from tensorflow.keras import layers\n",
        "\n",
        "SEED = 42\n",
        "AUTOTUNE = tf.data.AUTOTUNE"
      ]
    },
    {
      "cell_type": "markdown",
      "source": [
        "Tokenizacion"
      ],
      "metadata": {
        "id": "HNPpUlf0tSLT"
      }
    },
    {
      "cell_type": "code",
      "source": [
        "sentence = \"The wide road shimmered in the hot sun\"\n",
        "tokens = list(sentence.lower().split())\n",
        "print(len(tokens))"
      ],
      "metadata": {
        "colab": {
          "base_uri": "https://localhost:8080/"
        },
        "id": "tXsFlQawtaq1",
        "outputId": "15471b81-54a8-42c1-d782-6646fcad26e1"
      },
      "execution_count": null,
      "outputs": [
        {
          "output_type": "stream",
          "name": "stdout",
          "text": [
            "8\n"
          ]
        }
      ]
    },
    {
      "cell_type": "code",
      "source": [
        "#Crear vocabulario\n",
        "vocab, index = {}, 1\n",
        "vocab['pad']= 0  #padding\n",
        "for token in tokens:\n",
        "  if token not in vocab:\n",
        "    vocab[token] = index\n",
        "    index +=1\n",
        "\n",
        "vocab_size=len(vocab)\n",
        "print(vocab)\n"
      ],
      "metadata": {
        "colab": {
          "base_uri": "https://localhost:8080/"
        },
        "id": "LYEIO_gGuDFP",
        "outputId": "f67696b2-de3e-45de-b359-2649aa0725da"
      },
      "execution_count": null,
      "outputs": [
        {
          "output_type": "stream",
          "name": "stdout",
          "text": [
            "{'pad': 0, 'the': 1, 'wide': 2, 'road': 3, 'shimmered': 4, 'in': 5, 'hot': 6, 'sun': 7}\n"
          ]
        }
      ]
    },
    {
      "cell_type": "code",
      "source": [
        "# inversa del vocabulario\n",
        "inverse_vocab = {index: token for token, index in vocab.items()}\n",
        "print(inverse_vocab)"
      ],
      "metadata": {
        "colab": {
          "base_uri": "https://localhost:8080/"
        },
        "id": "jDyPoQ_4vqJL",
        "outputId": "64376543-2c8a-4399-e87c-b4b9dd2ae4c6"
      },
      "execution_count": null,
      "outputs": [
        {
          "output_type": "stream",
          "name": "stdout",
          "text": [
            "{0: 'pad', 1: 'the', 2: 'wide', 3: 'road', 4: 'shimmered', 5: 'in', 6: 'hot', 7: 'sun'}\n"
          ]
        }
      ]
    },
    {
      "cell_type": "code",
      "source": [
        "example_sequence = [vocab[word] for word in tokens]\n",
        "print(example_sequence)"
      ],
      "metadata": {
        "colab": {
          "base_uri": "https://localhost:8080/"
        },
        "id": "ausxfR6BwfOb",
        "outputId": "b31f024b-e36b-411f-9bca-fe18387eabd5"
      },
      "execution_count": null,
      "outputs": [
        {
          "output_type": "stream",
          "name": "stdout",
          "text": [
            "[1, 2, 3, 4, 5, 1, 6, 7]\n"
          ]
        }
      ]
    },
    {
      "cell_type": "markdown",
      "source": [
        "Generar skip-grams"
      ],
      "metadata": {
        "id": "lctHL55fxCAP"
      }
    },
    {
      "cell_type": "code",
      "source": [
        "window_size = 2\n",
        "positive_skip_grams, _ = tf.keras.preprocessing.sequence.skipgrams(\n",
        "    example_sequence,\n",
        "    vocabulary_size=vocab_size,\n",
        "    window_size= window_size,\n",
        "    negative_samples=0)\n",
        "print(len(positive_skip_grams))\n",
        "\n",
        "for target, context in positive_skip_grams[:5]:\n",
        "  print(f\"({target}, {context}): ({inverse_vocab[target]},{inverse_vocab[context]}))\")"
      ],
      "metadata": {
        "colab": {
          "base_uri": "https://localhost:8080/"
        },
        "id": "sDxzvzF0xFKu",
        "outputId": "cf06f588-b2ff-4107-e392-597f234fee29"
      },
      "execution_count": null,
      "outputs": [
        {
          "output_type": "stream",
          "name": "stdout",
          "text": [
            "26\n",
            "(2, 3): (wide,road))\n",
            "(6, 1): (hot,the))\n",
            "(4, 3): (shimmered,road))\n",
            "(3, 4): (road,shimmered))\n",
            "(5, 3): (in,road))\n"
          ]
        }
      ]
    },
    {
      "cell_type": "markdown",
      "source": [
        "Generar muestras negativas"
      ],
      "metadata": {
        "id": "P04O5w77zVdx"
      }
    },
    {
      "cell_type": "code",
      "source": [
        "target_word, context_word = positive_skip_grams[0]\n",
        "num_ns = 4 #Numero de muestras negativas\n",
        "\n",
        "context_class = tf.reshape(tf.constant(context_word, dtype=\"int64\"), (1,1))\n",
        "\n",
        "negative_sampling_candidates, _ , _ = tf.random.log_uniform_candidate_sampler(\n",
        "    true_classes=context_class,\n",
        "    num_true=1,\n",
        "    num_sampled = num_ns,\n",
        "    unique = True,\n",
        "    range_max = vocab_size,\n",
        "    seed = SEED,\n",
        "    name = \"negative_sampling\"\n",
        ")\n",
        "\n",
        "print(negative_sampling_candidates)\n",
        "print([inverse_vocab[index.numpy()] for index in negative_sampling_candidates])"
      ],
      "metadata": {
        "colab": {
          "base_uri": "https://localhost:8080/"
        },
        "id": "OERHBxdUzjkd",
        "outputId": "22db5a75-1586-425e-f166-6ded5c866e84"
      },
      "execution_count": null,
      "outputs": [
        {
          "output_type": "stream",
          "name": "stdout",
          "text": [
            "tf.Tensor([2 1 4 3], shape=(4,), dtype=int64)\n",
            "['wide', 'the', 'shimmered', 'road']\n"
          ]
        }
      ]
    },
    {
      "cell_type": "code",
      "source": [
        "squeezed_context_class = tf.squeeze(context_class, 1)\n",
        "context = tf.concat([squeezed_context_class, negative_sampling_candidates], 0)\n",
        "label = tf.constant([1] + [0] * num_ns, dtype=\"int64\")\n",
        "target = target_word\n",
        "\n",
        "print(f\"target_index     :{target}\")\n",
        "print(f\"target_word      :{inverse_vocab[target_word]}\")\n",
        "print(f\"context_indices  :{context}\")\n",
        "print(f\"context_words    :{[inverse_vocab[c.numpy()] for c in context]}\")\n",
        "print(f\"label            :{label}\")"
      ],
      "metadata": {
        "colab": {
          "base_uri": "https://localhost:8080/"
        },
        "id": "0tkLJdg927AK",
        "outputId": "825ab123-49d3-477b-8bd5-9125195db8c2"
      },
      "execution_count": null,
      "outputs": [
        {
          "output_type": "stream",
          "name": "stdout",
          "text": [
            "target_index     :2\n",
            "target_word      :wide\n",
            "context_indices  :[3 2 1 4 3]\n",
            "context_words    :['road', 'wide', 'the', 'shimmered', 'road']\n",
            "label            :[1 0 0 0 0]\n"
          ]
        }
      ]
    },
    {
      "cell_type": "markdown",
      "source": [
        "Generar datos de entrenamiento"
      ],
      "metadata": {
        "id": "rWWh6lzm5QKx"
      }
    },
    {
      "cell_type": "code",
      "source": [
        "def generate_training_data(sequences, window_size, num_ns, vocab_size, seed):\n",
        "  targets, contexts, labels =[],[],[]\n",
        "\n",
        "  sampling_table = tf.keras.preprocessing.sequence.make_sampling_table(vocab_size)\n",
        "\n",
        "  for sequence in tqdm.tqdm(sequences):\n",
        "\n",
        "    #Generar skip_gram positivo de cada palabra\n",
        "    positive_skip_grams, _ = tf.keras.preprocessing.sequence.skipgrams(\n",
        "      sequence,\n",
        "      vocabulary_size= vocab_size,\n",
        "      sampling_table=sampling_table,\n",
        "      window_size=window_size,\n",
        "      negative_samples=0)\n",
        "\n",
        "    #Generar muestras negativas\n",
        "    for target_word, context_word in positive_skip_grams:\n",
        "\n",
        "      context_class = tf.expand_dims(\n",
        "          tf.constant([context_word], dtype=\"int64\"), 1)\n",
        "\n",
        "      negative_sampling_candidates, _, _ =tf.random.log_uniform_candidate_sampler(\n",
        "          true_classes=context_class,\n",
        "          num_true=1,\n",
        "          num_sampled=num_ns,\n",
        "          unique=True,\n",
        "          range_max=vocab_size,\n",
        "          seed = seed,\n",
        "          name = \"negative_sampling\")\n",
        "\n",
        "      # Concatenar y etiquetas\n",
        "      context = tf.concat([tf.squeeze(context_class,1), negative_sampling_candidates], 0)\n",
        "      label = tf.constant([1] + [0]*num_ns, dtype=\"int64\")\n",
        "\n",
        "      #Agregar a la lista\n",
        "      targets.append(target_word)\n",
        "      contexts.append(context)\n",
        "      labels.append(label)\n",
        "\n",
        "  return targets, contexts, labels"
      ],
      "metadata": {
        "id": "fUnrGqRf5THO"
      },
      "execution_count": null,
      "outputs": []
    },
    {
      "cell_type": "markdown",
      "source": [
        "Descargar documento (Text Corpus)"
      ],
      "metadata": {
        "id": "DXuvTVwiBbcP"
      }
    },
    {
      "cell_type": "code",
      "source": [
        "path_to_file = tf.keras.utils.get_file('shakespeare.txt', 'https://storage.googleapis.com/download.tensorflow.org/data/shakespeare.txt')"
      ],
      "metadata": {
        "id": "fcRoCOoHBhdG",
        "colab": {
          "base_uri": "https://localhost:8080/"
        },
        "outputId": "ce0970dd-daeb-4d5c-c6e6-23dd0f7b3198"
      },
      "execution_count": null,
      "outputs": [
        {
          "output_type": "stream",
          "name": "stdout",
          "text": [
            "Downloading data from https://storage.googleapis.com/download.tensorflow.org/data/shakespeare.txt\n",
            "1115394/1115394 [==============================] - 1s 1us/step\n"
          ]
        }
      ]
    },
    {
      "cell_type": "code",
      "source": [
        "text_ds = tf.data.TextLineDataset(path_to_file).filter(lambda x: tf.cast(tf.strings.length(x),bool))"
      ],
      "metadata": {
        "id": "6aqlFzBoC2Rf"
      },
      "execution_count": null,
      "outputs": []
    },
    {
      "cell_type": "markdown",
      "source": [
        "Estandarizacion"
      ],
      "metadata": {
        "id": "CsQTPSP0DdD1"
      }
    },
    {
      "cell_type": "code",
      "source": [
        "def custom_stadardization(input_data):\n",
        "  lowercase = tf.strings.lower(input_data)\n",
        "  return tf.strings.regex_replace(lowercase,\n",
        "                                  '[%s]' % re.escape(string.punctuation), '')\n",
        "\n",
        "vocab_size = 4096\n",
        "sequence_length = 10\n",
        "\n",
        "vectorize_layer = layers.TextVectorization(\n",
        "    standardize = custom_stadardization,\n",
        "    max_tokens = vocab_size,\n",
        "    output_mode = 'int',\n",
        "    output_sequence_length = sequence_length)\n",
        "\n",
        "vectorize_layer.adapt(text_ds.batch(1024))"
      ],
      "metadata": {
        "id": "5bU91R1LDhhT"
      },
      "execution_count": null,
      "outputs": []
    },
    {
      "cell_type": "code",
      "source": [
        "inverse_vocab = vectorize_layer.get_vocabulary()\n",
        "print(inverse_vocab[:20])"
      ],
      "metadata": {
        "colab": {
          "base_uri": "https://localhost:8080/"
        },
        "id": "8BDYfQ9dGFZO",
        "outputId": "41137dbc-e16f-4ed6-e0d7-b9b39cd02f5e"
      },
      "execution_count": null,
      "outputs": [
        {
          "output_type": "stream",
          "name": "stdout",
          "text": [
            "['', '[UNK]', 'the', 'and', 'to', 'i', 'of', 'you', 'my', 'a', 'that', 'in', 'is', 'not', 'for', 'with', 'me', 'it', 'be', 'your']\n"
          ]
        }
      ]
    },
    {
      "cell_type": "code",
      "source": [
        "text_vector_ds = text_ds.batch(1024).prefetch(AUTOTUNE).map(vectorize_layer).unbatch()"
      ],
      "metadata": {
        "id": "YmidU57iGf9C"
      },
      "execution_count": null,
      "outputs": []
    },
    {
      "cell_type": "code",
      "source": [
        "sequences = list(text_vector_ds.as_numpy_iterator())\n",
        "print(len(sequences))\n",
        "for seq in sequences[:10]:\n",
        "  print(f\"{seq} => {[inverse_vocab[i] for i in seq]}\")"
      ],
      "metadata": {
        "colab": {
          "base_uri": "https://localhost:8080/"
        },
        "id": "VoDDS1gVG-9_",
        "outputId": "093b15c7-64e7-4200-e3b5-095c45f1bb1a"
      },
      "execution_count": null,
      "outputs": [
        {
          "output_type": "stream",
          "name": "stdout",
          "text": [
            "32777\n",
            "[ 89 270   0   0   0   0   0   0   0   0] => ['first', 'citizen', '', '', '', '', '', '', '', '']\n",
            "[138  36 982 144 673 125  16 106   0   0] => ['before', 'we', 'proceed', 'any', 'further', 'hear', 'me', 'speak', '', '']\n",
            "[34  0  0  0  0  0  0  0  0  0] => ['all', '', '', '', '', '', '', '', '', '']\n",
            "[106 106   0   0   0   0   0   0   0   0] => ['speak', 'speak', '', '', '', '', '', '', '', '']\n",
            "[ 89 270   0   0   0   0   0   0   0   0] => ['first', 'citizen', '', '', '', '', '', '', '', '']\n",
            "[   7   41   34 1286  344    4  200   64    4 3690] => ['you', 'are', 'all', 'resolved', 'rather', 'to', 'die', 'than', 'to', 'famish']\n",
            "[34  0  0  0  0  0  0  0  0  0] => ['all', '', '', '', '', '', '', '', '', '']\n",
            "[1286 1286    0    0    0    0    0    0    0    0] => ['resolved', 'resolved', '', '', '', '', '', '', '', '']\n",
            "[ 89 270   0   0   0   0   0   0   0   0] => ['first', 'citizen', '', '', '', '', '', '', '', '']\n",
            "[  89    7   93 1187  225   12 2442  592    4    2] => ['first', 'you', 'know', 'caius', 'marcius', 'is', 'chief', 'enemy', 'to', 'the']\n"
          ]
        }
      ]
    },
    {
      "cell_type": "markdown",
      "source": [
        "Generar datos de entrenamiento"
      ],
      "metadata": {
        "id": "1UO-wCAOeemb"
      }
    },
    {
      "cell_type": "code",
      "source": [
        "targets, contexts, labels = generate_training_data(\n",
        "    sequences = sequences,\n",
        "    window_size= 2,\n",
        "    num_ns=4,\n",
        "    vocab_size=vocab_size,\n",
        "    seed=SEED\n",
        ")\n",
        "\n",
        "targets = np.array(targets)\n",
        "contexts = np.array(contexts)\n",
        "labels= np.array(labels)\n",
        "\n",
        "print('\\n')\n",
        "print(f\"targets.shape: {targets.shape}\")\n",
        "print(f\"contexts.shape: {contexts.shape}\")\n",
        "print(f\"labels.shape: {labels.shape}\")"
      ],
      "metadata": {
        "colab": {
          "base_uri": "https://localhost:8080/"
        },
        "id": "h-313HYXelQm",
        "outputId": "0c9dc4f6-d0f9-4e9c-a500-9bb819e0ab82"
      },
      "execution_count": null,
      "outputs": [
        {
          "output_type": "stream",
          "name": "stderr",
          "text": [
            "100%|██████████| 32777/32777 [01:13<00:00, 443.00it/s]\n"
          ]
        },
        {
          "output_type": "stream",
          "name": "stdout",
          "text": [
            "\n",
            "\n",
            "targets.shape: (65093,)\n",
            "contexts.shape: (65093, 5)\n",
            "labels.shape: (65093, 5)\n"
          ]
        }
      ]
    },
    {
      "cell_type": "code",
      "source": [
        "BATCH_SIZE = 1024\n",
        "BUFFER_SIZE = 10000\n",
        "\n",
        "dataset = tf.data.Dataset.from_tensor_slices(((targets,contexts),labels))\n",
        "dataset = dataset.shuffle(BUFFER_SIZE).batch(BATCH_SIZE, drop_remainder=True)\n",
        "print(dataset)"
      ],
      "metadata": {
        "colab": {
          "base_uri": "https://localhost:8080/"
        },
        "id": "NT5SGBu5kLry",
        "outputId": "aa4d3944-4954-4964-bdf7-78627e001385"
      },
      "execution_count": null,
      "outputs": [
        {
          "output_type": "stream",
          "name": "stdout",
          "text": [
            "<_BatchDataset element_spec=((TensorSpec(shape=(1024,), dtype=tf.int64, name=None), TensorSpec(shape=(1024, 5), dtype=tf.int64, name=None)), TensorSpec(shape=(1024, 5), dtype=tf.int64, name=None))>\n"
          ]
        }
      ]
    },
    {
      "cell_type": "code",
      "source": [
        "dataset = dataset.cache().prefetch(buffer_size=AUTOTUNE)"
      ],
      "metadata": {
        "id": "Ia9974VYkbbS"
      },
      "execution_count": null,
      "outputs": []
    },
    {
      "cell_type": "markdown",
      "source": [
        "Modelo de la RED"
      ],
      "metadata": {
        "id": "lVvnUp8Wl2ZH"
      }
    },
    {
      "cell_type": "code",
      "source": [
        "class Word2Vec(tf.keras.Model):\n",
        "  def __init__(self, vocab_size, wmbedding_dim):\n",
        "    super(Word2Vec, self).__init__()\n",
        "    self.target_embedding = layers.Embedding(vocab_size,\n",
        "                                             embedding_dim,\n",
        "                                             input_length=1,\n",
        "                                             name='w2v_embedding')\n",
        "    self.context_embedding = layers.Embedding(vocab_size,\n",
        "                                              embedding_dim,\n",
        "                                              input_length=5)\n",
        "\n",
        "  def call(self,pair):\n",
        "    target, context = pair\n",
        "    if len(target.shape) == 2:\n",
        "      target = tf.squeeze(target,axis=1)\n",
        "\n",
        "    word_emb = self.target_embedding(target)\n",
        "\n",
        "    context_emb = self.context_embedding(context)\n",
        "    dots = tf.einsum('be,bce->bc', word_emb, context_emb)\n",
        "\n",
        "    return dots"
      ],
      "metadata": {
        "id": "No2MGCfllaoz"
      },
      "execution_count": null,
      "outputs": []
    },
    {
      "cell_type": "markdown",
      "source": [
        "Definir funcion de perdida y compliar"
      ],
      "metadata": {
        "id": "xnjE7q1so0hO"
      }
    },
    {
      "cell_type": "code",
      "source": [
        "def custom_loss(x_logit, y_true):\n",
        "  return tf.nn.sigmoid_cross_entropy_with_logits(logits=x_logit, labels=y_true)"
      ],
      "metadata": {
        "id": "k5mVUWPToTU4"
      },
      "execution_count": null,
      "outputs": []
    },
    {
      "cell_type": "code",
      "source": [
        "embedding_dim = 128\n",
        "word2vec = Word2Vec(vocab_size, embedding_dim)\n",
        "word2vec.compile(optimizer='adam',\n",
        "                 loss=tf.keras.losses.CategoricalCrossentropy(from_logits=True),\n",
        "                 metrics=['accuracy'])"
      ],
      "metadata": {
        "id": "v7aOcRwLpaFf"
      },
      "execution_count": null,
      "outputs": []
    },
    {
      "cell_type": "markdown",
      "source": [
        "Entrenamiento de la red"
      ],
      "metadata": {
        "id": "J7CdC6vyqGeK"
      }
    },
    {
      "cell_type": "code",
      "source": [
        "word2vec.fit(dataset, epochs=20)"
      ],
      "metadata": {
        "colab": {
          "base_uri": "https://localhost:8080/"
        },
        "id": "wwFXX06GqF4p",
        "outputId": "3ce0ba5c-64db-47c0-f05b-2e2d36d790da"
      },
      "execution_count": null,
      "outputs": [
        {
          "output_type": "stream",
          "name": "stdout",
          "text": [
            "Epoch 1/20\n",
            "63/63 [==============================] - 13s 145ms/step - loss: 1.6082 - accuracy: 0.2314\n",
            "Epoch 2/20\n",
            "63/63 [==============================] - 0s 3ms/step - loss: 1.5888 - accuracy: 0.5540\n",
            "Epoch 3/20\n",
            "63/63 [==============================] - 0s 3ms/step - loss: 1.5410 - accuracy: 0.5977\n",
            "Epoch 4/20\n",
            "63/63 [==============================] - 0s 3ms/step - loss: 1.4587 - accuracy: 0.5689\n",
            "Epoch 5/20\n",
            "63/63 [==============================] - 0s 4ms/step - loss: 1.3610 - accuracy: 0.5755\n",
            "Epoch 6/20\n",
            "63/63 [==============================] - 0s 3ms/step - loss: 1.2646 - accuracy: 0.6034\n",
            "Epoch 7/20\n",
            "63/63 [==============================] - 0s 3ms/step - loss: 1.1745 - accuracy: 0.6390\n",
            "Epoch 8/20\n",
            "63/63 [==============================] - 0s 4ms/step - loss: 1.0910 - accuracy: 0.6742\n",
            "Epoch 9/20\n",
            "63/63 [==============================] - 0s 3ms/step - loss: 1.0135 - accuracy: 0.7082\n",
            "Epoch 10/20\n",
            "63/63 [==============================] - 0s 3ms/step - loss: 0.9414 - accuracy: 0.7374\n",
            "Epoch 11/20\n",
            "63/63 [==============================] - 0s 3ms/step - loss: 0.8744 - accuracy: 0.7633\n",
            "Epoch 12/20\n",
            "63/63 [==============================] - 0s 3ms/step - loss: 0.8125 - accuracy: 0.7860\n",
            "Epoch 13/20\n",
            "63/63 [==============================] - 0s 3ms/step - loss: 0.7554 - accuracy: 0.8060\n",
            "Epoch 14/20\n",
            "63/63 [==============================] - 0s 3ms/step - loss: 0.7028 - accuracy: 0.8227\n",
            "Epoch 15/20\n",
            "63/63 [==============================] - 0s 3ms/step - loss: 0.6547 - accuracy: 0.8377\n",
            "Epoch 16/20\n",
            "63/63 [==============================] - 0s 3ms/step - loss: 0.6107 - accuracy: 0.8522\n",
            "Epoch 17/20\n",
            "63/63 [==============================] - 0s 3ms/step - loss: 0.5706 - accuracy: 0.8641\n",
            "Epoch 18/20\n",
            "63/63 [==============================] - 0s 3ms/step - loss: 0.5341 - accuracy: 0.8754\n",
            "Epoch 19/20\n",
            "63/63 [==============================] - 0s 3ms/step - loss: 0.5008 - accuracy: 0.8848\n",
            "Epoch 20/20\n",
            "63/63 [==============================] - 0s 3ms/step - loss: 0.4706 - accuracy: 0.8932\n"
          ]
        },
        {
          "output_type": "execute_result",
          "data": {
            "text/plain": [
              "<keras.src.callbacks.History at 0x7e26d12c7190>"
            ]
          },
          "metadata": {},
          "execution_count": 34
        }
      ]
    },
    {
      "cell_type": "markdown",
      "source": [
        "Descargar pesos"
      ],
      "metadata": {
        "id": "U3vk611bs-fs"
      }
    },
    {
      "cell_type": "code",
      "source": [
        "weight = word2vec.get_layer('w2v_embedding').get_weights()[0]\n",
        "vocab = vectorize_layer.get_vocabulary()\n",
        "\n",
        "out_v = io.open('vectors.tsv', 'w', encoding='utf-8')\n",
        "out_m = io.open('metadata.tsv', 'w', encoding='utf-8')\n",
        "for index, word in enumerate(vocab):\n",
        "  if index == 0:\n",
        "    continue\n",
        "  vec = weight[index]\n",
        "  out_v.write('\\t'.join([str(x) for x in vec]) + '\\n')\n",
        "  out_m.write(word + '\\n')\n",
        "out_v.close()\n",
        "out_m.close()"
      ],
      "metadata": {
        "id": "m0DSFR1np_oa"
      },
      "execution_count": null,
      "outputs": []
    }
  ]
}