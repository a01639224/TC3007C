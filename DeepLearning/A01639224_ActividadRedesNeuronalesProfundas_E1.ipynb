{
  "nbformat": 4,
  "nbformat_minor": 0,
  "metadata": {
    "colab": {
      "provenance": [],
      "gpuType": "T4"
    },
    "kernelspec": {
      "name": "python3",
      "display_name": "Python 3"
    },
    "language_info": {
      "name": "python"
    },
    "accelerator": "GPU"
  },
  "cells": [
    {
      "cell_type": "markdown",
      "source": [
        "<h1> Actividad Redes Neuronales Profundas </h1>\n",
        "\n",
        "A01639224 | Fausto Alejandro Palma Cervantes\n",
        "\n",
        "TC3007C.502 | Inteligencia artificial avanzada para la ciencia de datos II\n",
        "\n",
        "4 de octubre de 2023\n"
      ],
      "metadata": {
        "id": "BhxukAVRH9yF"
      }
    },
    {
      "cell_type": "markdown",
      "source": [
        "<h3> 1. Primero deberás mejorar el desempeño del modelo que desarrollamos en clase (Base de datos Cifar10) para obtener una presición mayor al 70%. </h3>"
      ],
      "metadata": {
        "id": "9DHNBFI1INgy"
      }
    },
    {
      "cell_type": "markdown",
      "source": [
        "Importar módulos y librerías necesarias (TensorFlow, Keras y Matplotlib)"
      ],
      "metadata": {
        "id": "tRtFo3eRMXmq"
      }
    },
    {
      "cell_type": "code",
      "source": [
        "import tensorflow as tf\n",
        "from tensorflow.keras import datasets, layers, models\n",
        "import matplotlib.pyplot as plt"
      ],
      "metadata": {
        "id": "ug4U81oRIlUE"
      },
      "execution_count": 1,
      "outputs": []
    },
    {
      "cell_type": "markdown",
      "source": [
        "Cargar y preparar el conjunto de datos CIFAR10"
      ],
      "metadata": {
        "id": "D0YzRdhSMjd2"
      }
    },
    {
      "cell_type": "code",
      "source": [
        "(train_images, train_labels), (test_images, test_labels) = datasets.cifar10.load_data()"
      ],
      "metadata": {
        "id": "00as78dsI9_I"
      },
      "execution_count": 2,
      "outputs": []
    },
    {
      "cell_type": "markdown",
      "source": [
        "Normalizar los valores de cada pixel en todas las imágenes"
      ],
      "metadata": {
        "id": "61UDiVYNMmm1"
      }
    },
    {
      "cell_type": "code",
      "source": [
        "train_images, test_images = train_images/255.0, test_images/255"
      ],
      "metadata": {
        "id": "LBrc3KN2MoJD"
      },
      "execution_count": 3,
      "outputs": []
    },
    {
      "cell_type": "markdown",
      "source": [
        "Crear un modelo secuencial (por capas)"
      ],
      "metadata": {
        "id": "rrVVZXj0Msh1"
      }
    },
    {
      "cell_type": "code",
      "source": [
        "model = models.Sequential()"
      ],
      "metadata": {
        "id": "fXGfANkUMvc4"
      },
      "execution_count": 4,
      "outputs": []
    },
    {
      "cell_type": "markdown",
      "source": [
        "Añadir capas de convolución y de agrupación máxima"
      ],
      "metadata": {
        "id": "a1PNz5YkMwQn"
      }
    },
    {
      "cell_type": "code",
      "source": [
        "model.add(layers.Conv2D(32, (3,3), activation='relu', input_shape=(32, 32, 3)))\n",
        "model.add(layers.MaxPooling2D((2,2)))\n",
        "model.add(layers.Conv2D(64, (3,3), activation='relu'))\n",
        "model.add(layers.MaxPooling2D((2,2)))\n",
        "model.add(layers.Conv2D(128, (3,3), activation='relu'))"
      ],
      "metadata": {
        "id": "iLVvPTHfM0_D"
      },
      "execution_count": 5,
      "outputs": []
    },
    {
      "cell_type": "markdown",
      "source": [
        "Añadir una capa de aplanamiento al modelo (conectar las capas de convolución con las densas)"
      ],
      "metadata": {
        "id": "d1OELoU1M3AB"
      }
    },
    {
      "cell_type": "code",
      "source": [
        "model.add(layers.Flatten())"
      ],
      "metadata": {
        "id": "CLqYMeO8M6Dm"
      },
      "execution_count": 6,
      "outputs": []
    },
    {
      "cell_type": "markdown",
      "source": [
        "Añadir capas densas"
      ],
      "metadata": {
        "id": "Wh-d4xcPM6pK"
      }
    },
    {
      "cell_type": "code",
      "source": [
        "model.add(layers.Dense(256, activation='relu'))\n",
        "model.add(layers.Dense(10, activation='sigmoid'))"
      ],
      "metadata": {
        "id": "iBbpYNWgLqPF"
      },
      "execution_count": 7,
      "outputs": []
    },
    {
      "cell_type": "markdown",
      "source": [
        "Imprimir un resumen de la arquitectura del modelo"
      ],
      "metadata": {
        "id": "4v6wyK1IM-uA"
      }
    },
    {
      "cell_type": "code",
      "source": [
        "model.summary()"
      ],
      "metadata": {
        "colab": {
          "base_uri": "https://localhost:8080/"
        },
        "id": "JjcPHRt8M-RR",
        "outputId": "2fb8272b-38ef-4ea3-cfe9-cb29526f304a"
      },
      "execution_count": 8,
      "outputs": [
        {
          "output_type": "stream",
          "name": "stdout",
          "text": [
            "Model: \"sequential\"\n",
            "_________________________________________________________________\n",
            " Layer (type)                Output Shape              Param #   \n",
            "=================================================================\n",
            " conv2d (Conv2D)             (None, 30, 30, 32)        896       \n",
            "                                                                 \n",
            " max_pooling2d (MaxPooling2  (None, 15, 15, 32)        0         \n",
            " D)                                                              \n",
            "                                                                 \n",
            " conv2d_1 (Conv2D)           (None, 13, 13, 64)        18496     \n",
            "                                                                 \n",
            " max_pooling2d_1 (MaxPoolin  (None, 6, 6, 64)          0         \n",
            " g2D)                                                            \n",
            "                                                                 \n",
            " conv2d_2 (Conv2D)           (None, 4, 4, 128)         73856     \n",
            "                                                                 \n",
            " flatten (Flatten)           (None, 2048)              0         \n",
            "                                                                 \n",
            " dense (Dense)               (None, 256)               524544    \n",
            "                                                                 \n",
            " dense_1 (Dense)             (None, 10)                2570      \n",
            "                                                                 \n",
            "=================================================================\n",
            "Total params: 620362 (2.37 MB)\n",
            "Trainable params: 620362 (2.37 MB)\n",
            "Non-trainable params: 0 (0.00 Byte)\n",
            "_________________________________________________________________\n"
          ]
        }
      ]
    },
    {
      "cell_type": "markdown",
      "source": [
        "Configurar el entrenamiento del modelo"
      ],
      "metadata": {
        "id": "yRpS5MM-NB8l"
      }
    },
    {
      "cell_type": "code",
      "source": [
        "model.compile(optimizer='adam',\n",
        "              loss=tf.keras.losses.SparseCategoricalCrossentropy(from_logits=True),\n",
        "              metrics=['accuracy'])"
      ],
      "metadata": {
        "id": "o1J7xL-0NDGA"
      },
      "execution_count": 9,
      "outputs": []
    },
    {
      "cell_type": "markdown",
      "source": [
        "Iniciar el entrenamiento del modelo (y analizar su proceso de entrenamiento)\n"
      ],
      "metadata": {
        "id": "PHylGOm8NFqD"
      }
    },
    {
      "cell_type": "code",
      "source": [
        "history = model.fit(train_images, train_labels, epochs=7,\n",
        "                    validation_data=(test_images, test_labels))"
      ],
      "metadata": {
        "colab": {
          "base_uri": "https://localhost:8080/"
        },
        "id": "0oxEpFLTNFKo",
        "outputId": "ac8aaad4-618a-4ad3-ac4d-b182ac0d53c4"
      },
      "execution_count": 10,
      "outputs": [
        {
          "output_type": "stream",
          "name": "stdout",
          "text": [
            "Epoch 1/7\n"
          ]
        },
        {
          "output_type": "stream",
          "name": "stderr",
          "text": [
            "/usr/local/lib/python3.10/dist-packages/keras/src/backend.py:5714: UserWarning: \"`sparse_categorical_crossentropy` received `from_logits=True`, but the `output` argument was produced by a Softmax activation and thus does not represent logits. Was this intended?\n",
            "  output, from_logits = _get_logits(\n"
          ]
        },
        {
          "output_type": "stream",
          "name": "stdout",
          "text": [
            "1563/1563 [==============================] - 15s 6ms/step - loss: 1.3949 - accuracy: 0.4969 - val_loss: 1.1122 - val_accuracy: 0.6094\n",
            "Epoch 2/7\n",
            "1563/1563 [==============================] - 8s 5ms/step - loss: 1.0119 - accuracy: 0.6446 - val_loss: 0.9279 - val_accuracy: 0.6748\n",
            "Epoch 3/7\n",
            "1563/1563 [==============================] - 9s 5ms/step - loss: 0.8405 - accuracy: 0.7052 - val_loss: 0.8710 - val_accuracy: 0.6962\n",
            "Epoch 4/7\n",
            "1563/1563 [==============================] - 8s 5ms/step - loss: 0.7248 - accuracy: 0.7480 - val_loss: 0.8775 - val_accuracy: 0.7015\n",
            "Epoch 5/7\n",
            "1563/1563 [==============================] - 8s 5ms/step - loss: 0.6256 - accuracy: 0.7790 - val_loss: 0.8709 - val_accuracy: 0.7032\n",
            "Epoch 6/7\n",
            "1563/1563 [==============================] - 8s 5ms/step - loss: 0.5364 - accuracy: 0.8108 - val_loss: 0.8908 - val_accuracy: 0.7105\n",
            "Epoch 7/7\n",
            "1563/1563 [==============================] - 8s 5ms/step - loss: 0.4493 - accuracy: 0.8416 - val_loss: 0.9174 - val_accuracy: 0.7225\n"
          ]
        }
      ]
    },
    {
      "cell_type": "markdown",
      "source": [
        "Visualizar el proceso de entrenamiento  del modelo"
      ],
      "metadata": {
        "id": "OEUVrO0MNKKP"
      }
    },
    {
      "cell_type": "code",
      "source": [
        "plt.plot(history.history['accuracy'], label='Conjunto de entrenamiento')\n",
        "plt.plot(history.history['val_accuracy'], label='Conjunto de validación')\n",
        "plt.xlabel('Número de épocas')\n",
        "plt.ylabel('Presición del modelo')\n",
        "plt.legend()\n",
        "plt.grid()"
      ],
      "metadata": {
        "colab": {
          "base_uri": "https://localhost:8080/",
          "height": 450
        },
        "id": "PrskAqYDNbuk",
        "outputId": "50e65d62-db04-4161-ed3f-044ad9ce3378"
      },
      "execution_count": 11,
      "outputs": [
        {
          "output_type": "display_data",
          "data": {
            "text/plain": [
              "<Figure size 640x480 with 1 Axes>"
            ],
            "image/png": "[encoded data removed]"
          },
          "metadata": {}
        }
      ]
    }
  ]
}